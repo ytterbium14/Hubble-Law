{
 "cells": [
  {
   "cell_type": "code",
   "execution_count": 19,
   "metadata": {},
   "outputs": [
    {
     "name": "stdout",
     "output_type": "stream",
     "text": [
      "The reading the data from the diameters csv files containing 27 galaxies and the data.txt file with spectral wavelengths\n"
     ]
    }
   ],
   "source": [
    "import numpy as np \n",
    "import matplotlib.pyplot as plt\n",
    "%matplotlib inline\n",
    "\n",
    "\n",
    "\n",
    "a_d=[] #for the angular diameter\n",
    "with open('diameters.csv','r') as f:\n",
    "    lines=f.read().split('\\n')\n",
    "for line in lines:\n",
    "    a_d.append(line.split(','))\n",
    "data=np.loadtxt('data.txt',delimiter=',')\n",
    "data_g=np.copy(data)\n",
    "\n",
    "print(\"The reading the data from the diameters csv files containing 27 galaxies and the data.txt file with spectral wavelengths\")\n",
    "\n"
   ]
  },
  {
   "cell_type": "code",
   "execution_count": 20,
   "metadata": {},
   "outputs": [
    {
     "name": "stdout",
     "output_type": "stream",
     "text": [
      "Calculating the average redshifts of ecach galaxy\n"
     ]
    }
   ],
   "source": [
    "avg_rs=[] #list to save the redshift for each of the galaxy\n",
    "for i in range(0,26):\n",
    "    data_g[i][0]=(data_g[i][0]-3933.7)/3933.7\n",
    "    data_g[i][1]=(data_g[i][1]-3968.5)/3968.5\n",
    "    data_g[i][2]=(data_g[i][2]-6562.8)/6562.8\n",
    "    m=round( (data_g[i][0]+data_g[i][1]+data_g[i][2])/3,4)\n",
    "    avg_rs.append(m)\n",
    "print(\"Calculating the average redshifts of ecach galaxy\")"
   ]
  },
  {
   "cell_type": "code",
   "execution_count": 23,
   "metadata": {},
   "outputs": [],
   "source": [
    "v_g=[] #list to store the velocity\n",
    "c=299792.458 #speed of light in km/s\n",
    "for i in range(0,26):\n",
    "    v_g.append(c*avg_rs[i])\n",
    "\n",
    "d=[]\n",
    "for i in range(0,26):\n",
    "    d.append(22/float(a_d[i][1]))\n",
    "    \n",
    "d.sort()\n",
    "v_g.sort()\n"
   ]
  },
  {
   "cell_type": "code",
   "execution_count": 24,
   "metadata": {},
   "outputs": [
    {
     "name": "stdout",
     "output_type": "stream",
     "text": [
      "The redshifts of galaxies are\n",
      "[0.0072, 0.0066, 0.0078, 0.0049, 0.0011, 0.0005, 0.0088, 0.0049, 0.0051, 0.006, 0.0032, 0.0043, 0.0064, 0.0032, 0.0024, 0.0042, 0.0049, 0.0022, 0.0056, 0.0032, 0.0097, 0.0022, 0.0078, 0.0041, 0.0046, 0.0078]\n"
     ]
    }
   ],
   "source": [
    "print(\"The redshifts of galaxies are\")\n",
    "print(avg_rs) \n"
   ]
  },
  {
   "cell_type": "code",
   "execution_count": 25,
   "metadata": {},
   "outputs": [
    {
     "name": "stdout",
     "output_type": "stream",
     "text": [
      "The velocities of galaxies are\n",
      "[149.896229, 329.7717038, 659.5434076, 659.5434076, 719.5018991999999, 959.3358656, 959.3358656, 959.3358656, 1229.1490778, 1259.1283236, 1289.1075693999999, 1379.0453068, 1468.9830441999998, 1468.9830441999998, 1468.9830441999998, 1528.9415358, 1678.8377647999998, 1798.7547479999998, 1918.6717312, 1978.6302228, 2158.5056975999996, 2338.3811723999997, 2338.3811723999997, 2338.3811723999997, 2638.1736304, 2907.9868426]\n"
     ]
    }
   ],
   "source": [
    "print(\"The velocities of galaxies are\")\n",
    "print(v_g) \n"
   ]
  },
  {
   "cell_type": "code",
   "execution_count": 15,
   "metadata": {},
   "outputs": [
    {
     "data": {
      "image/png": "[encoded data removed]",
      "text/plain": [
       "<Figure size 432x288 with 1 Axes>"
      ]
     },
     "metadata": {
      "needs_background": "light"
     },
     "output_type": "display_data"
    }
   ],
   "source": [
    "xd=d\n",
    "yd=v_g\n",
    "\n",
    "par = np.polyfit(xd, yd, 1, full=True)\n",
    "\n",
    "slope=av_h\n",
    "intercept=0\n",
    "xl = [min(xd), max(xd)]\n",
    "yl = [slope*xx + intercept  for xx in xl]\n",
    "\n",
    "variance = np.var(yd)\n",
    "residuals = np.var([(slope*xx + intercept - yy)  for xx,yy in zip(xd,yd)])\n",
    "Rsqr = np.round(1-residuals/variance, decimals=2)\n",
    "plt.text(.9*max(xd)+.1*min(xd),.9*max(yd)+.1*min(yd),s=' ')\n",
    "\n",
    "plt.xlabel(\"Distance in Mpc\")\n",
    "plt.ylabel(\"Speed in km/s\")\n",
    "\n",
    "# error bounds\n",
    "yerr = [abs(slope*xx + intercept - yy)  for xx,yy in zip(xd,yd)]\n",
    "par = np.polyfit(xd, yerr, 2, full=True)\n",
    "\n",
    "yerrUpper = [(xx*slope+intercept)+(par[0][0]*xx**2 + par[0][1]*xx + par[0][2]) for xx,yy in zip(xd,yd)]\n",
    "yerrLower = [(xx*slope+intercept)-(par[0][0]*xx**2 + par[0][1]*xx + par[0][2]) for xx,yy in zip(xd,yd)]\n",
    "plt.xlim(0,100,5)\n",
    "plt.ylim(0,4000,500)\n",
    "plt.plot(xl, yl, '-r')\n",
    "plt.plot(d,v_g,'g^')\n",
    "#plt.plot(xd, yerrLower, '--r')\n",
    "#plt.plot(xd, yerrUpper, '--r')\n",
    "plt.show()"
   ]
  },
  {
   "cell_type": "code",
   "execution_count": 16,
   "metadata": {
    "scrolled": false
   },
   "outputs": [
    {
     "name": "stdout",
     "output_type": "stream",
     "text": [
      "the value of hubble constant is 73.87976319512727 \n",
      "Age of universe in 0.013535506297696889 \n"
     ]
    }
   ],
   "source": [
    "h_val=[]\n",
    "for i in range(0,25):\n",
    "    h_val.append((v_g[i]/d[i]))\n",
    "     \n",
    "av_h=sum(h_val)/len(h_val)\n",
    "m=np.max(h_val)\n",
    "print(\"the value of hubble constant is %s \"%m) \n",
    "print(\"Age of universe in %s \"%(1/m))\n",
    "\n",
    "\n"
   ]
  }
 ],
 "metadata": {
  "kernelspec": {
   "display_name": "Python 3",
   "language": "python",
   "name": "python3"
  },
  "language_info": {
   "codemirror_mode": {
    "name": "ipython",
    "version": 3
   },
   "file_extension": ".py",
   "mimetype": "text/x-python",
   "name": "python",
   "nbconvert_exporter": "python",
   "pygments_lexer": "ipython3",
   "version": "3.8.5"
  }
 },
 "nbformat": 4,
 "nbformat_minor": 4
}
